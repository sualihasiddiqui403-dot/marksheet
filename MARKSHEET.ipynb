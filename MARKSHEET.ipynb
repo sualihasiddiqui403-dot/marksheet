{
  "nbformat": 4,
  "nbformat_minor": 0,
  "metadata": {
    "colab": {
      "provenance": []
    },
    "kernelspec": {
      "name": "python3",
      "display_name": "Python 3"
    },
    "language_info": {
      "name": "python"
    }
  },
  "cells": [
    {
      "cell_type": "code",
      "execution_count": null,
      "metadata": {
        "id": "EMGCwJX0ffzw",
        "colab": {
          "base_uri": "https://localhost:8080/"
        },
        "outputId": "9b70db46-13c1-456b-cfee-936a078072d1"
      },
      "outputs": [
        {
          "name": "stdout",
          "output_type": "stream",
          "text": [
            "==== STUDENT REPORT CARD GENERATOR  ====\n",
            "ENTER STUDENT NAME:sualiha\n",
            "ENTER ROLL NUMBER:506\n",
            "\n",
            "ENTER MARKS OUT OF 100 FOR RACH SUBJECT:\n",
            "English:78\n",
            "Computer:89\n",
            "Chemistry:90\n",
            "Biology:95\n",
            "Physics:96\n"
          ]
        }
      ],
      "source": [
        "print(\"==== STUDENT REPORT CARD GENERATOR  ====\")\n",
        "\n",
        "name = input(\"ENTER STUDENT NAME:\")\n",
        "roll_no = input(\"ENTER ROLL NUMBER:\")\n",
        "\n",
        "print(\"\\nENTER MARKS OUT OF 100 FOR RACH SUBJECT:\")\n",
        "english = int(input(\"English:\"))\n",
        "computer = int(input(\"Computer:\"))\n",
        "chemistry = int(input(\"Chemistry:\"))\n",
        "biology = int(input(\"Biology:\"))\n",
        "physics = int(input(\"Physics:\"))\n",
        "\n",
        "total = english + computer + chemistry + biology + physics\n",
        "percentage = total / 5\n",
        "\n",
        "if percentage >= 90:\n",
        "  grade = \"A+\"\n",
        "elif percentage >= 80:\n",
        "  grade = \"A\"\n",
        "elif percentage >= 70:\n",
        "  grade = \"B\"\n",
        "elif percentage >= 60:\n",
        "  grade = \"C\"\n",
        "elif percentage >= 50:\n",
        "  grade = \"D\"\n",
        "else:\n",
        "  grade = \"Fail\"\n",
        "\n",
        "  print(\"\\n===== REPORT CARD =====\")\n",
        "  print(f\"Name  : {name}\")\n",
        "  print(f\"Roll no.  : {roll_no}\")\n",
        "  print(f\"English  : {english}\")\n",
        "  print(f\"Computer  : {computer}\")\n",
        "  print(f\"Chemistry  : {chemistry}\")\n",
        "  print(f\"Biology  : {biology}\")\n",
        "  print(f\"Physics  : {physics}\")\n",
        "  print(\"-------------------------------\")\n",
        "  print(f\"TOTAL MARKS: {total}/500\")\n",
        "  print(f\"PERCENTAGE : {percentage:.2f}%\")\n",
        "  print(f\"GRADE      : {grade}\")\n",
        "  print(\"===================================\")\n"
      ]
    },
    {
      "cell_type": "code",
      "source": [],
      "metadata": {
        "id": "o4Rwr5iIqzDx"
      },
      "execution_count": null,
      "outputs": []
    }
  ]
}