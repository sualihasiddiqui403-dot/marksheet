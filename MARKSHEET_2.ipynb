{
  "nbformat": 4,
  "nbformat_minor": 0,
  "metadata": {
    "colab": {
      "provenance": []
    },
    "kernelspec": {
      "name": "python3",
      "display_name": "Python 3"
    },
    "language_info": {
      "name": "python"
    }
  },
  "cells": [
    {
      "cell_type": "code",
      "execution_count": 9,
      "metadata": {
        "id": "EMGCwJX0ffzw",
        "colab": {
          "base_uri": "https://localhost:8080/"
        },
        "outputId": "5679c0de-287f-4e6c-88b6-22ae1d4d27ac"
      },
      "outputs": [
        {
          "output_type": "stream",
          "name": "stdout",
          "text": [
            "==== STUDENT REPORT CARD GENERATOR  ====\n",
            "ENTER STUDENT NAME:Sualiha\n",
            "ENTER ROLL NUMBER:708\n",
            "\n",
            "ENTER MARKS OUT OF 100 FOR RACH SUBJECT:\n",
            "English:78\n",
            "Computer:90\n",
            "Chemistry:90\n",
            "Biology:97\n",
            "Physics:97\n",
            "\n",
            "===== REPORT CARD =====\n",
            "Name  : Sualiha\n",
            "Roll no.  : 708\n",
            "English  : 78\n",
            "Computer  : 90\n",
            "Chemistry  : 90\n",
            "Biology  : 97\n",
            "Physics  : 97\n",
            "-------------------------------\n",
            "TOTAL MARKS: 452/500\n",
            "PERCENTAGE : 90.40%\n",
            "GRADE      : A+\n",
            "===================================\n"
          ]
        }
      ],
      "source": [
        "print(\"==== STUDENT REPORT CARD GENERATOR  ====\")\n",
        "\n",
        "name = input(\"ENTER STUDENT NAME:\")\n",
        "roll_no = input(\"ENTER ROLL NUMBER:\")\n",
        "\n",
        "print(\"\\nENTER MARKS OUT OF 100 FOR RACH SUBJECT:\")\n",
        "english = int(input(\"English:\"))\n",
        "computer = int(input(\"Computer:\"))\n",
        "chemistry = int(input(\"Chemistry:\"))\n",
        "biology = int(input(\"Biology:\"))\n",
        "physics = int(input(\"Physics:\"))\n",
        "\n",
        "total = english + computer + chemistry + biology + physics\n",
        "percentage = total / 5\n",
        "\n",
        "if percentage >= 90:\n",
        "  grade = \"A+\"\n",
        "elif percentage >= 80:\n",
        "  grade = \"A\"\n",
        "elif percentage >= 70:\n",
        "  grade = \"B\"\n",
        "elif percentage >= 60:\n",
        "  grade = \"C\"\n",
        "elif percentage >= 50:\n",
        "  grade = \"D\"\n",
        "else:\n",
        "  grade = \"Fail\"\n",
        "\n",
        "print(\"\\n===== REPORT CARD =====\")\n",
        "print(f\"Name  : {name}\")\n",
        "print(f\"Roll no.  : {roll_no}\")\n",
        "print(f\"English  : {english}\")\n",
        "print(f\"Computer  : {computer}\")\n",
        "print(f\"Chemistry  : {chemistry}\")\n",
        "print(f\"Biology  : {biology}\")\n",
        "print(f\"Physics  : {physics}\")\n",
        "print(\"-------------------------------\")\n",
        "print(f\"TOTAL MARKS: {total}/500\")\n",
        "print(f\"PERCENTAGE : {percentage:.2f}%\")\n",
        "print(f\"GRADE      : {grade}\")\n",
        "print(\"===================================\")\n"
      ]
    },
    {
      "cell_type": "code",
      "source": [],
      "metadata": {
        "id": "o4Rwr5iIqzDx"
      },
      "execution_count": 9,
      "outputs": []
    }
  ]
}